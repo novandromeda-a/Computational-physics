{
  "nbformat": 4,
  "nbformat_minor": 0,
  "metadata": {
    "colab": {
      "name": "Actividad3.ipynb",
      "provenance": []
    },
    "kernelspec": {
      "name": "python3",
      "display_name": "Python 3"
    }
  },
  "cells": [
    {
      "cell_type": "markdown",
      "metadata": {
        "id": "D1u_K_NTyxCE"
      },
      "source": [
        "![logo.png](data:image/png;base64,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)\r\n",
        "\r\n",
        "\r\n",
        "# **Actividad 3**\r\n",
        "*Pandas*\r\n",
        "\r\n",
        "Iveth Rocio Navarro Lopez\r\n",
        "\r\n",
        "\r\n"
      ]
    },
    {
      "cell_type": "code",
      "metadata": {
        "colab": {
          "base_uri": "https://localhost:8080/"
        },
        "id": "O8FwR5PpzHAA",
        "outputId": "834b9ae1-8aab-422a-be00-cbcb89479dab"
      },
      "source": [
        "# Importación de librerías\r\n",
        "import numpy as np\r\n",
        "import pandas as pd #Objetivo de aprendizaje dela actividad\r\n",
        "\r\n",
        "#Este programa tiene por propósito el análisis dela base de datos climatológicos \r\n",
        "#obtenidos en la página oficial de CONAGUA sobre la estación 26072, Puerto\r\n",
        "#Peñasco, Sonora.\r\n",
        "\r\n",
        "#Creación de DATA FRAME dela base de datos y uno adicional para trabajar\r\n",
        "\r\n",
        "url= \"https://raw.githubusercontent.com/novandromeda-a/Computational-physics/master/Actividad%201/Base%20de%20datos%20climatol%C3%B3gica.txt\"\r\n",
        "\r\n",
        "e=[\"Fecha\",\"Precip\",\"Evap\",\"Tmax\",\"Tmin\"] #Encabezados de las columnas en la \r\n",
        "                                          #base de datos\r\n",
        "\r\n",
        "df_weather = pd.read_csv(url, names=e, encoding='cp1251', sep='\\s+', header=None, skiprows=19, skipfooter=1, engine='python')                                          \r\n",
        "#Declaración de DATA FRAME\r\n",
        "\r\n",
        "#print(df_weather.head(10)) \r\n",
        "#print(df_weather.tail(10)) \r\n",
        "#df_weather.shape  \r\n",
        "#df_weather.info()\r\n",
        "\r\n",
        "df_weather1=df_weather.copy() #Este data frame será con el que trabajemos\r\n",
        "df_weather1.head()\r\n",
        "\r\n",
        "str_Nulo='Nulo'\r\n",
        "df_weather2=df_weather1.replace(to_replace=str_Nulo, value=' ', regex=True) \r\n",
        "df_weather2.head()\r\n",
        "\r\n",
        "#Las siguientes lineas son para pasar los datos a numéricos\r\n",
        "cols_list=[\"Precip\",\"Evap\",\"Tmax\",\"Tmin\"] #Diccionario para loop for\r\n",
        "for cols in cols_list:\r\n",
        "  df_weather2[cols]=pd.to_numeric(df_weather2[cols], errors='coerce') \r\n",
        "\r\n",
        "#df_weather2.info() \r\n",
        "\r\n",
        "#Las siguientes lienas sirven para un conteo de datos faltantes\r\n",
        "#df_weather2.isnull().sum() \r\n",
        "\r\n",
        "#df_weather2.head()\r\n",
        "#df_weather2.tail()\r\n",
        "\r\n",
        "#df_weather2.describe() #Esta línea sirve para el análisis estadístico\r\n",
        "\r\n",
        "#Las siguientes lineas sirven para hacer que Python reconozca el formato de fecha\r\n",
        "df_weather3=df_weather2.copy() \r\n",
        "#df_weather3['Fecha'].head() \r\n",
        "\r\n",
        "df_weather3['Fecha']=pd.to_datetime(df_weather3['Fecha'], dayfirst=True).copy() \r\n",
        "#df_weather3['Fecha'].head()\r\n",
        "#df_weather3.dtypes \r\n",
        "\r\n",
        "df_weather3['Año']=df_weather3['Fecha'].dt.year \r\n",
        "df_weather3['Mes']=df_weather3['Fecha'].dt.month \r\n",
        "\r\n",
        "#df_weather3.head()\r\n",
        "#df_weather3.tail()\r\n",
        "\r\n",
        "df_weather3.info() \r\n",
        "\r\n"
      ],
      "execution_count": 20,
      "outputs": [
        {
          "output_type": "stream",
          "text": [
            "<class 'pandas.core.frame.DataFrame'>\n",
            "RangeIndex: 17602 entries, 0 to 17601\n",
            "Data columns (total 7 columns):\n",
            " #   Column  Non-Null Count  Dtype         \n",
            "---  ------  --------------  -----         \n",
            " 0   Fecha   17602 non-null  datetime64[ns]\n",
            " 1   Precip  17568 non-null  float64       \n",
            " 2   Evap    9008 non-null   float64       \n",
            " 3   Tmax    16608 non-null  float64       \n",
            " 4   Tmin    16648 non-null  float64       \n",
            " 5   Año     17602 non-null  int64         \n",
            " 6   Mes     17602 non-null  int64         \n",
            "dtypes: datetime64[ns](1), float64(4), int64(2)\n",
            "memory usage: 962.7 KB\n"
          ],
          "name": "stdout"
        }
      ]
    }
  ]
}